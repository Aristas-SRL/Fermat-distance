{
 "cells": [
  {
   "cell_type": "markdown",
   "metadata": {},
   "source": [
    "# Getting started with Fermat\n",
    " \n",
    "This notebook introduces the basic concepts in order to compute Fermat distance using the Fermat package.\n",
    "\n",
    "We use a toy data set (the swiss roll) in order to illustrate. \n",
    "\n",
    " **Contents**:\n",
    "        \n",
    "    o Data generation\n",
    "    o Computing Fermat distance\n",
    "    o Visualization using t-sne\n",
    "    "
   ]
  },
  {
   "cell_type": "code",
   "execution_count": 1,
   "metadata": {},
   "outputs": [],
   "source": [
    "import numpy as np\n",
    "from scipy.spatial import  distance_matrix\n",
    "from sklearn.manifold import TSNE\n",
    "\n",
    "import matplotlib.pyplot as plt\n",
    "\n",
    "from generate_data import generate_swiss_roll"
   ]
  },
  {
   "cell_type": "markdown",
   "metadata": {},
   "source": [
    "If you prefer to work without installing Fermat package, then you can import directly the files from the fermat folder"
   ]
  },
  {
   "cell_type": "code",
   "execution_count": 2,
   "metadata": {},
   "outputs": [],
   "source": [
    "#import sys\n",
    "#path_to_FermatFolder = '/home/facu/Dropbox/Repositorios/Fermat-distance' \n",
    "#sys.path.append(path_to_FermatFolder)"
   ]
  },
  {
   "cell_type": "code",
   "execution_count": 3,
   "metadata": {},
   "outputs": [],
   "source": [
    "from fermat import Fermat"
   ]
  },
  {
   "cell_type": "code",
   "execution_count": 4,
   "metadata": {},
   "outputs": [
    {
     "name": "stdout",
     "output_type": "stream",
     "text": [
      "Help on class Fermat in module fermat.Fermat:\n",
      "\n",
      "class Fermat(builtins.object)\n",
      " |  Methods defined here:\n",
      " |  \n",
      " |  __init__(self, alpha, path_method='L', k=None, landmarks=None, estimator='up', seed=None)\n",
      " |      Initialization of the Fermat model\n",
      " |      \n",
      " |      Parameters\n",
      " |      -----------\n",
      " |      alpha: float\n",
      " |          Parameter of the Fermat distance.\n",
      " |      \n",
      " |      path_method: string ['FW','D','L']\n",
      " |      \n",
      " |          Options are:\n",
      " |      \n",
      " |                  'FW'    -- Computes the exact Fermat distance using the Floyd-Warshall algorithm. The complexity is\n",
      " |                           O[N^3] where N is the number of data points.\n",
      " |      \n",
      " |                  'D'     --  Computes an approximation of the Fermat distance using k nearest neighbours and the\n",
      " |                           Dijkstra algorithm. The complexity is O[N*(k*N*log N)]\n",
      " |      \n",
      " |                  'L'     -- Computes an approximation of the Fermat distance using landmarks and k-nn. The complexity\n",
      " |                           is O[l*(k*N*log N)] where l is the number of landmarks considered.\n",
      " |      \n",
      " |      k: integer, optional\n",
      " |          Number of nearest neighbors to be considered.\n",
      " |          Incompatible with path_method == 'FW'\n",
      " |      \n",
      " |      landmarks: integer, optional\n",
      " |          Number of landmarks considered in the Fermat distance computation.\n",
      " |          Only available when path_method = 'L'\n",
      " |      \n",
      " |      estimator: string ['up', 'down', 'mean', 'no_lca'] (default: 'up')\n",
      " |          When computing an approximation of the Fermat distance, there are lower and upper bounds of the true value.\n",
      " |          If estimator == 'no_lca', the distance for a pair of points is calculated as the minimum sum of the distance\n",
      " |              from both points to one of the landmarks.\n",
      " |          If estimator == 'up', the distance for a pair of points is calculated as the minimum sum of the distance\n",
      " |              from both points to the lowest common ancestor in the distance tree of one of the landmarks.\n",
      " |          If estimator == 'down', the distance for a pair of points is calculated as the maximum difference of the\n",
      " |              distance from both points to one of the landmarks.\n",
      " |          If estimator == 'mean', the  mean between 'up' and 'down' estimators.\n",
      " |          Only available when path_method = 'L'\n",
      " |      \n",
      " |      seed: int, optional\n",
      " |          Only available when path_method = 'L'\n",
      " |      \n",
      " |      \n",
      " |      Returns\n",
      " |      -----------\n",
      " |      Fermat class object\n",
      " |      \n",
      " |      \n",
      " |      Examples\n",
      " |      -----------\n",
      " |      # init an exact Fermat distance model\n",
      " |      f_exact = Fermat(alpha = 3, path_method='FW', seed = 1)\n",
      " |      \n",
      " |      # init an approx Fermat distance model\n",
      " |      f_aprox = Fermat(alpha, path_method='L', k=10, landmarks=50)\n",
      " |  \n",
      " |  fit(self, distances)\n",
      " |      Parameters\n",
      " |      -----------\n",
      " |      distances: np.matrix\n",
      " |          Matrix with pairwise distances\n",
      " |  \n",
      " |  get_distance(self, a, b)\n",
      " |      Parameters\n",
      " |      -----------\n",
      " |      a: int\n",
      " |          Index of a data point\n",
      " |      \n",
      " |      b: int\n",
      " |          Index of a data point\n",
      " |      \n",
      " |      Returns\n",
      " |      -----------\n",
      " |      Float: the Fermat distance between points a and b\n",
      " |  \n",
      " |  get_distances(self)\n",
      " |      Parameters\n",
      " |      -----------\n",
      " |      -\n",
      " |      \n",
      " |      Returns\n",
      " |      -----------\n",
      " |      np.matrix with the pairwise Fermat distances\n",
      " |  \n",
      " |  ----------------------------------------------------------------------\n",
      " |  Data descriptors defined here:\n",
      " |  \n",
      " |  __dict__\n",
      " |      dictionary for instance variables (if defined)\n",
      " |  \n",
      " |  __weakref__\n",
      " |      list of weak references to the object (if defined)\n",
      "\n"
     ]
    }
   ],
   "source": [
    "help(Fermat)"
   ]
  },
  {
   "cell_type": "markdown",
   "metadata": {},
   "source": [
    "## Data generation\n",
    "\n",
    "Generate the Swiss Roll data set."
   ]
  },
  {
   "cell_type": "code",
   "execution_count": 6,
   "metadata": {},
   "outputs": [
    {
     "name": "stdout",
     "output_type": "stream",
     "text": [
      "Data dimension:(1000, 3)\n"
     ]
    }
   ],
   "source": [
    "data, labels = generate_swiss_roll(oscilations = 15, A = 3, n = 250)\n",
    "print('Data dimension:{}'.format(data.shape))"
   ]
  },
  {
   "cell_type": "markdown",
   "metadata": {},
   "source": [
    "Visualize the data"
   ]
  },
  {
   "cell_type": "code",
   "execution_count": 7,
   "metadata": {},
   "outputs": [
    {
     "ename": "ImportError",
     "evalue": "No module named 'matplotlib.externals'",
     "output_type": "error",
     "traceback": [
      "\u001b[0;31m---------------------------------------------------------------------------\u001b[0m",
      "\u001b[0;31mImportError\u001b[0m                               Traceback (most recent call last)",
      "\u001b[0;32m<ipython-input-7-adac5602d742>\u001b[0m in \u001b[0;36m<module>\u001b[0;34m()\u001b[0m\n\u001b[0;32m----> 1\u001b[0;31m \u001b[0;32mfrom\u001b[0m \u001b[0mmpl_toolkits\u001b[0m\u001b[0;34m.\u001b[0m\u001b[0mmplot3d\u001b[0m \u001b[0;32mimport\u001b[0m \u001b[0mAxes3D\u001b[0m\u001b[0;34m\u001b[0m\u001b[0m\n\u001b[0m\u001b[1;32m      2\u001b[0m \u001b[0;34m\u001b[0m\u001b[0m\n\u001b[1;32m      3\u001b[0m \u001b[0mfig\u001b[0m \u001b[0;34m=\u001b[0m \u001b[0mplt\u001b[0m\u001b[0;34m.\u001b[0m\u001b[0mfigure\u001b[0m\u001b[0;34m(\u001b[0m\u001b[0;34m)\u001b[0m\u001b[0;34m\u001b[0m\u001b[0m\n\u001b[1;32m      4\u001b[0m \u001b[0;34m\u001b[0m\u001b[0m\n\u001b[1;32m      5\u001b[0m \u001b[0max\u001b[0m \u001b[0;34m=\u001b[0m \u001b[0mfig\u001b[0m\u001b[0;34m.\u001b[0m\u001b[0madd_subplot\u001b[0m\u001b[0;34m(\u001b[0m\u001b[0;36m111\u001b[0m\u001b[0;34m,\u001b[0m \u001b[0mprojection\u001b[0m\u001b[0;34m=\u001b[0m\u001b[0;34m'3d'\u001b[0m\u001b[0;34m)\u001b[0m\u001b[0;34m\u001b[0m\u001b[0m\n",
      "\u001b[0;32m/usr/lib/python3/dist-packages/mpl_toolkits/mplot3d/__init__.py\u001b[0m in \u001b[0;36m<module>\u001b[0;34m()\u001b[0m\n\u001b[1;32m      2\u001b[0m                         unicode_literals)\n\u001b[1;32m      3\u001b[0m \u001b[0;34m\u001b[0m\u001b[0m\n\u001b[0;32m----> 4\u001b[0;31m \u001b[0;32mfrom\u001b[0m \u001b[0mmatplotlib\u001b[0m\u001b[0;34m.\u001b[0m\u001b[0mexternals\u001b[0m \u001b[0;32mimport\u001b[0m \u001b[0msix\u001b[0m\u001b[0;34m\u001b[0m\u001b[0m\n\u001b[0m\u001b[1;32m      5\u001b[0m \u001b[0;34m\u001b[0m\u001b[0m\n\u001b[1;32m      6\u001b[0m \u001b[0;32mfrom\u001b[0m \u001b[0;34m.\u001b[0m\u001b[0maxes3d\u001b[0m \u001b[0;32mimport\u001b[0m \u001b[0mAxes3D\u001b[0m\u001b[0;34m\u001b[0m\u001b[0m\n",
      "\u001b[0;31mImportError\u001b[0m: No module named 'matplotlib.externals'"
     ]
    }
   ],
   "source": [
    "from mpl_toolkits.mplot3d import Axes3D\n",
    "\n",
    "fig = plt.figure()\n",
    "\n",
    "ax = fig.add_subplot(111, projection='3d')\n",
    "ax.view_init(10, 80)\n",
    "ax.scatter(xs=data[:,0], ys=data[:,1], zs=data[:,2], c=labels, s=4)\n",
    "plt.title('Swiss Roll Normals dataset \\n N=%s'%(data.shape[0]))\n",
    "\n",
    "plt.show()"
   ]
  },
  {
   "cell_type": "markdown",
   "metadata": {},
   "source": [
    "Compute euclidean distances between points in the data set"
   ]
  },
  {
   "cell_type": "code",
   "execution_count": 8,
   "metadata": {},
   "outputs": [],
   "source": [
    "distances = distance_matrix(data,data)"
   ]
  },
  {
   "cell_type": "markdown",
   "metadata": {},
   "source": [
    "## Computing Fermat-Distances"
   ]
  },
  {
   "cell_type": "markdown",
   "metadata": {},
   "source": [
    "Parameters"
   ]
  },
  {
   "cell_type": "code",
   "execution_count": 9,
   "metadata": {},
   "outputs": [],
   "source": [
    "alpha = 3\n",
    "\n",
    "k = 100 \n",
    "landmarks = 30"
   ]
  },
  {
   "cell_type": "markdown",
   "metadata": {},
   "source": [
    "#### Exact method: computes all the pairwise Fermat distances in an exact way \n"
   ]
  },
  {
   "cell_type": "code",
   "execution_count": 10,
   "metadata": {},
   "outputs": [
    {
     "name": "stdout",
     "output_type": "stream",
     "text": [
      "CPU times: user 1.15 s, sys: 16 ms, total: 1.17 s\n",
      "Wall time: 1.16 s\n"
     ]
    }
   ],
   "source": [
    "%%time\n",
    "\n",
    "# Initialize the model\n",
    "f_exact = Fermat(alpha = alpha, path_method='FW') \n",
    "\n",
    "# Fit\n",
    "f_exact.fit(np.matrix(distances))"
   ]
  },
  {
   "cell_type": "code",
   "execution_count": 11,
   "metadata": {},
   "outputs": [],
   "source": [
    "fermat_dist_exact = f_exact.get_distances() "
   ]
  },
  {
   "cell_type": "markdown",
   "metadata": {},
   "source": [
    "#### Aprox method 1: using k-nearest neighbours"
   ]
  },
  {
   "cell_type": "code",
   "execution_count": 12,
   "metadata": {},
   "outputs": [
    {
     "name": "stdout",
     "output_type": "stream",
     "text": [
      "CPU times: user 1.3 s, sys: 16 ms, total: 1.32 s\n",
      "Wall time: 1.33 s\n"
     ]
    }
   ],
   "source": [
    "%%time\n",
    "\n",
    "# Initialize Fermat model\n",
    "f_aprox_D = Fermat(alpha, path_method='D', k=k) \n",
    "\n",
    "# Fit\n",
    "f_aprox_D.fit(np.matrix(distances))"
   ]
  },
  {
   "cell_type": "code",
   "execution_count": 13,
   "metadata": {},
   "outputs": [],
   "source": [
    "fermat_dist_aprox_D = f_aprox_D.get_distances()"
   ]
  },
  {
   "cell_type": "markdown",
   "metadata": {},
   "source": [
    "#### Aprox method 2: using landmarks and k-nearest neighbours "
   ]
  },
  {
   "cell_type": "code",
   "execution_count": 14,
   "metadata": {},
   "outputs": [
    {
     "name": "stdout",
     "output_type": "stream",
     "text": [
      "CPU times: user 472 ms, sys: 8 ms, total: 480 ms\n",
      "Wall time: 478 ms\n"
     ]
    }
   ],
   "source": [
    "%%time\n",
    "\n",
    "# Initialize Fermat model\n",
    "f_aprox_L = Fermat(alpha, path_method='L', k=k, landmarks=landmarks) \n",
    "\n",
    "# Fit\n",
    "f_aprox_L.fit(np.matrix(distances))"
   ]
  },
  {
   "cell_type": "code",
   "execution_count": 15,
   "metadata": {},
   "outputs": [],
   "source": [
    "fermat_dist_aprox_L = f_aprox_L.get_distances() "
   ]
  },
  {
   "cell_type": "markdown",
   "metadata": {},
   "source": [
    "## Visualization\n",
    "\n",
    "Visualization for the Fermat distances using t-SNE"
   ]
  },
  {
   "cell_type": "code",
   "execution_count": 16,
   "metadata": {
    "scrolled": true
   },
   "outputs": [],
   "source": [
    "tsne_model = TSNE(n_components=2, verbose=0, perplexity=50, n_iter=500)\n",
    "tsnes = tsne_model.fit_transform(fermat_dist_exact)"
   ]
  },
  {
   "cell_type": "code",
   "execution_count": 17,
   "metadata": {},
   "outputs": [
    {
     "data": {
      "text/plain": [
       "<matplotlib.collections.PathCollection at 0x7fa5a0e82cc0>"
      ]
     },
     "execution_count": 17,
     "metadata": {},
     "output_type": "execute_result"
    },
    {
     "data": {
      "image/png": "[encoded data removed]",
      "text/plain": [
       "<matplotlib.figure.Figure at 0x7fa5a1015668>"
      ]
     },
     "metadata": {},
     "output_type": "display_data"
    }
   ],
   "source": [
    "plt.scatter(tsnes[:,0],tsnes[:,1], c = labels, s = 5)"
   ]
  },
  {
   "cell_type": "code",
   "execution_count": null,
   "metadata": {},
   "outputs": [],
   "source": []
  }
 ],
 "metadata": {
  "kernelspec": {
   "display_name": "Python 3",
   "language": "python",
   "name": "python3"
  },
  "language_info": {
   "codemirror_mode": {
    "name": "ipython",
    "version": 3
   },
   "file_extension": ".py",
   "mimetype": "text/x-python",
   "name": "python",
   "nbconvert_exporter": "python",
   "pygments_lexer": "ipython3",
   "version": "3.5.2"
  }
 },
 "nbformat": 4,
 "nbformat_minor": 2
}
